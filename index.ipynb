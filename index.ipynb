{
 "cells": [
  {
   "cell_type": "markdown",
   "metadata": {},
   "source": [
    "# Global Prime Pay SDK\n"
   ]
  },
  {
   "cell_type": "code",
   "execution_count": null,
   "metadata": {},
   "outputs": [],
   "source": []
  },
  {
   "cell_type": "markdown",
   "metadata": {},
   "source": [
    "\n",
    "\n",
    "more info at https://doc.gbprimepay.com\n",
    "for python docs see https://thanakijwanavit.github.io/globalPrimePay/\n",
    "\n",
    "## Install\n",
    "\n",
    "`pip install globalPrimePay`\n",
    "\n",
    "## How to use\n",
    "\n",
    "1. Get appropriate secret and public key\n",
    "2. go through get started\n",
    "3. python docs [here](https://thanakijwanavit.github.io/globalPrimePay/)"
   ]
  },
  {
   "cell_type": "markdown",
   "metadata": {},
   "source": [
    "## Secrets\n",
    "\n",
    "GB prime should give you a password file which should include\n",
    ">this should also be available at your gbprime console in `profile>show Key` near the bottom of the page\n",
    "\n",
    "```\n",
    "public: Public Key\n",
    "secret: Secret Key\n",
    "token: Token / Customer Key\n",
    "```\n",
    "\n",
    "\n",
    "These key should be saved securely and should never be shared with the client or stored in the source code\n",
    "We recommend a secret storage service such as `aws secrets manager`\n",
    "if you are developing your app please use the test domain key\n",
    "\n",
    "these secrets must be used when initiating the gbp client"
   ]
  },
  {
   "cell_type": "code",
   "execution_count": null,
   "metadata": {},
   "outputs": [],
   "source": []
  }
 ],
 "metadata": {
  "kernelspec": {
   "display_name": "python38",
   "language": "python",
   "name": "python38"
  }
 },
 "nbformat": 4,
 "nbformat_minor": 4
}
