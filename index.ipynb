{
 "cells": [
  {
   "cell_type": "code",
   "execution_count": null,
   "metadata": {},
   "outputs": [],
   "source": [
    "#hide\n",
    "from your_lib.core import *"
   ]
  },
  {
   "cell_type": "markdown",
   "metadata": {},
   "source": [
    "# Template for sam nbdev\n",
    "\n",
    "> Summary description here.\n",
    "This is a template for building a python 3.8 sam project with [nbdev](https://nbdev.fast.ai) setup"
   ]
  },
  {
   "cell_type": "markdown",
   "metadata": {},
   "source": []
  },
  {
   "cell_type": "markdown",
   "metadata": {},
   "source": [
    "## Install"
   ]
  },
  {
   "cell_type": "markdown",
   "metadata": {},
   "source": [
    "`pip install aws-sam-cli nbdev pynamodb-dax`\n",
    "\n",
    "to configure aws credentials run `brew install awscli` then `aws configure`\n",
    "you can put the IAM user keys in"
   ]
  },
  {
   "cell_type": "markdown",
   "metadata": {},
   "source": [
    "## How to use"
   ]
  },
  {
   "cell_type": "markdown",
   "metadata": {},
   "source": [
    "1. fill in all the notebooks in the folder nbs\n",
    "  * put `#export` on top of any cells you want to export and `#default_exp filename` on top of the notebook (see example`get.ipynb`)\n",
    "  * put `#hide` on top of the cells you dont want to include in python package\n",
    "  * change `nbs_path` from `.` to `nbs` in `settings.ini` \n",
    "  * run `make build`\n",
    "\n",
    "2. edit sam template \n",
    "  * [template](https://docs.aws.amazon.com/serverless-application-model/latest/developerguide/sam-resource-function.html) as necessary, file `template.yaml`\n",
    "  * test your sam template using `make test`\n",
    "\n",
    "3. put library to install with pip into `layerRequirements.txt` or `samRequirements.txt`\n",
    "\n",
    "\n",
    "\n",
    "4. only for the first run:\n",
    "  * run `sam build` then `sam deploy --guided`\n",
    "  * run `make test`\n",
    "  \n",
    "5. editing the app router\n",
    "  * edit the file `app/app.py`\n",
    "  * put this on the top line `from src.<your nb name> import <your lambda function in nbdev>`\n",
    "  * dont forget to put `#export` on top of the cells you want to include in the product\n",
    "  \n",
    "6. (optional) to deploy using github action, edit the `deploy.yml` file as appropriate\n",
    "  `in most cases you should only edit the last line`\n",
    "\n",
    "7. go to [cloudformation](https://ap-southeast-1.console.aws.amazon.com/cloudformation) console to see the result\n",
    "\n"
   ]
  },
  {
   "cell_type": "code",
   "execution_count": null,
   "metadata": {},
   "outputs": [],
   "source": []
  },
  {
   "cell_type": "code",
   "execution_count": null,
   "metadata": {},
   "outputs": [],
   "source": []
  }
 ],
 "metadata": {
  "kernelspec": {
   "display_name": "python38",
   "language": "python",
   "name": "python38"
  }
 },
 "nbformat": 4,
 "nbformat_minor": 4
}
