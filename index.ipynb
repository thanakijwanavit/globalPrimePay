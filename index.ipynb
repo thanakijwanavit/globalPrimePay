{
 "cells": [
  {
   "cell_type": "markdown",
   "metadata": {},
   "source": [
    "# Global Prime Pay SDK\n"
   ]
  },
  {
   "cell_type": "code",
   "execution_count": null,
   "metadata": {},
   "outputs": [],
   "source": []
  },
  {
   "cell_type": "markdown",
   "metadata": {},
   "source": [
    "\n",
    "\n",
    "more info at https://doc.gbprimepay.com\n",
    "for python docs see https://thanakijwanavit.github.io/globalPrimePay/\n",
    "\n",
    "## Install\n",
    "\n",
    "`pip install globalPrimePay`\n",
    "\n",
    "## How to use\n",
    "\n",
    "1. Get gbprime secrets\n",
    "2. `pip install globalPrimePay`\n",
    "3. python docs [here](https://thanakijwanavit.github.io/globalPrimePay/)"
   ]
  },
  {
   "cell_type": "markdown",
   "metadata": {},
   "source": [
    "## Secrets\n",
    "\n",
    "GB prime should give you a password file which should include\n",
    ">this should also be available at your gbprime console in `profile>show Key` near the bottom of the page\n",
    "\n",
    "```\n",
    "public: Public Key\n",
    "secret: Secret Key\n",
    "token: Token / Customer Key\n",
    "```\n",
    "\n",
    "\n",
    "These key should be saved securely and should never be shared with the client or stored in the source code\n",
    "We recommend a secret storage service such as `aws secrets manager`\n",
    "if you are developing your app please use the test domain key\n",
    "\n",
    "these secrets must be used when initiating the gbp client"
   ]
  },
  {
   "cell_type": "markdown",
   "metadata": {},
   "source": [
    "# Usage\n",
    "## Initiate a client "
   ]
  },
  {
   "cell_type": "code",
   "execution_count": null,
   "metadata": {},
   "outputs": [],
   "source": [
    "from globalPrimePay.client import Client\n",
    "client = Client(pub = 'PUBLICKEY', secret='SECRETKEY', token='CLIENT TOKEN')"
   ]
  },
  {
   "cell_type": "code",
   "execution_count": null,
   "metadata": {},
   "outputs": [],
   "source": [
    "#hide\n",
    "from nicHelper.secrets import getSecret\n",
    "secret = getSecret('globalprime-dev')\n",
    "client = Client(pub = secret['public'], secret=secret['secret'], token = secret.get('token',''))"
   ]
  },
  {
   "cell_type": "markdown",
   "metadata": {},
   "source": [
    "## Pay with credit card"
   ]
  },
  {
   "cell_type": "code",
   "execution_count": null,
   "metadata": {},
   "outputs": [
    {
     "data": {
      "text/plain": [
       "'a76e0bc4-a5ed-4cf1-a6ca-33d185bc7509'"
      ]
     },
     "execution_count": null,
     "metadata": {},
     "output_type": "execute_result"
    }
   ],
   "source": [
    "sampleCard = {\n",
    "      \"cardNumber\": \"4535017710535741\",\n",
    "      \"expirationMonth\": \"05\",\n",
    "      \"expirationYear\": \"28\",\n",
    "      \"securityCode\": \"184\",\n",
    "      \"name\": \"Watcharagon Phokonwong\"\n",
    "    }\n",
    "cardToken = client.getCardToken(**sampleCard)['card']['token']\n",
    "cardToken"
   ]
  },
  {
   "cell_type": "markdown",
   "metadata": {},
   "source": [
    "### non-3d payment"
   ]
  },
  {
   "cell_type": "code",
   "execution_count": null,
   "metadata": {},
   "outputs": [
    {
     "data": {
      "text/plain": [
       "{'customerAddress': None,\n",
       " 'amount': 100,\n",
       " 'referenceNo': 'ref1',\n",
       " 'messageToMerchant': None,\n",
       " 'resultCode': '00',\n",
       " 'customerTelephone': None,\n",
       " 'resultMessage': 'Success',\n",
       " 'customerName': 'nic',\n",
       " 'customerEmail': 'nicsemail@gmail.com',\n",
       " 'gbpReferenceNo': 'gbp173512113574',\n",
       " 'merchantDefined5': None,\n",
       " 'detail': 'test order',\n",
       " 'merchantDefined3': None,\n",
       " 'merchantDefined4': None,\n",
       " 'merchantDefined1': None,\n",
       " 'merchantDefined2': None}"
      ]
     },
     "execution_count": null,
     "metadata": {},
     "output_type": "execute_result"
    }
   ],
   "source": [
    "# non-3d payment\n",
    "client.chargeCard(\n",
    "  token = cardToken,\n",
    "  amount = 100,\n",
    "  referenceNo = 'ref1',\n",
    "  customerName = \"nic\",\n",
    "  customerEmail = \"nicsemail@gmail.com\",\n",
    "  detail =  'test order')"
   ]
  },
  {
   "cell_type": "markdown",
   "metadata": {},
   "source": [
    "### 3d payment"
   ]
  },
  {
   "cell_type": "code",
   "execution_count": null,
   "metadata": {},
   "outputs": [
    {
     "data": {
      "text/plain": [
       "{'customerAddress': None,\n",
       " 'amount': 100,\n",
       " 'referenceNo': 'ref1',\n",
       " 'messageToMerchant': None,\n",
       " 'resultCode': '00',\n",
       " 'customerTelephone': None,\n",
       " 'resultMessage': 'Success',\n",
       " 'customerName': 'nic',\n",
       " 'customerEmail': 'nicsemail@gmail.com',\n",
       " 'gbpReferenceNo': 'gbp173512113578',\n",
       " 'merchantDefined5': None,\n",
       " 'detail': 'test order',\n",
       " 'merchantDefined3': None,\n",
       " 'merchantDefined4': None,\n",
       " 'merchantDefined1': None,\n",
       " 'merchantDefined2': None}"
      ]
     },
     "execution_count": null,
     "metadata": {},
     "output_type": "execute_result"
    }
   ],
   "source": [
    "# payment\n",
    "chargeCardResult = client.chargeCard(\n",
    "  token = cardToken,\n",
    "  amount = 100,\n",
    "  referenceNo = 'ref1',\n",
    "  customerName = \"nic\",\n",
    "  customerEmail = \"nicsemail@gmail.com\",\n",
    "  detail =  'test order',\n",
    "  otp = 'Y'\n",
    ")\n",
    "chargeCardResult"
   ]
  },
  {
   "cell_type": "markdown",
   "metadata": {},
   "source": [
    "### Verify OTP"
   ]
  },
  {
   "cell_type": "code",
   "execution_count": null,
   "metadata": {},
   "outputs": [
    {
     "data": {
      "text/plain": [
       "'<!DOCTYPE html>\\n\\n<html>\\n  <head>\\n    <title>GB Prime Pay</title>\\n    <meta charset=\"UTF-8\" />\\n    <meta name=\"viewport\" content=\"width=device-width, initial-scale=1.0\" />\\n  </head>\\n  <body>\\n    <div>Loading...</div>\\n    <div>\\n      <form action=\"https://simbank.globalprimepay.com/pay/3d_secure\" method=\"post\">\\n        <input type=\"hidden\" name=\"MERID\" value=\"21291800058\" />\\n        <input type=\"hidden\" name=\"TERMINALID\" value=\"18060001\" />\\n        <input type=\"hidden\" name=\"PAN\" value=\"4535017710535741\" />\\n        <input type=\"hidden\" name=\"EXPIRYDATE\" value=\"0528\" />\\n        <input type=\"hidden\" name=\"CVV2\" value=\"184\" />\\n        <input type=\"hidden\" name=\"INVOICENO\" value=\"2209270148\" />\\n        <input type=\"hidden\" name=\"AMOUNT\" value=\"10000\" />\\n        <input type=\"hidden\" name=\"POSTURL\" value=\"https://api.globalprimepay.com/web/thanachat_gateway/receive/goback\" />\\n        <input type=\"hidden\" name=\"POSTURL2\" value=\"https://api.globalprimepay.com/web/thanachat_gateway/receive/realtime\" />\\n        <input type=\"hidden\" name=\"AUTOREDIRECT\" value=\"Y\" />\\n      </form>\\n    </div>\\n    <script type=\"text/javascript\" src=\"https://cdnjs.cloudflare.com/ajax/libs/jquery/3.2.1/jquery.min.js\"></script>\\n    <script type=\"text/javascript\">\\n      $(document).ready(function () {\\n        $(\\'form\\').submit();\\n      });\\n    </script>\\n  </body>\\n</html>'"
      ]
     },
     "execution_count": null,
     "metadata": {},
     "output_type": "execute_result"
    }
   ],
   "source": [
    "client.verifyOtp(chargeCardResult['gbpReferenceNo'])"
   ]
  },
  {
   "cell_type": "code",
   "execution_count": null,
   "metadata": {},
   "outputs": [],
   "source": []
  }
 ],
 "metadata": {
  "kernelspec": {
   "display_name": "python38",
   "language": "python",
   "name": "python38"
  }
 },
 "nbformat": 4,
 "nbformat_minor": 4
}
