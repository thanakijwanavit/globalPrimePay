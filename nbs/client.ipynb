{
 "cells": [
  {
   "cell_type": "code",
   "execution_count": null,
   "metadata": {},
   "outputs": [],
   "source": [
    "# default_exp client"
   ]
  },
  {
   "cell_type": "markdown",
   "metadata": {},
   "source": [
    "# Client\n",
    "\n",
    "> client for global prime pay\n",
    "\n",
    "\n",
    "this client is able to assist you through the GBP payment flow using just python\n",
    "feel free to comment and contribute\n",
    "\n",
    "more info at 'https://doc.gbprimepay.com'"
   ]
  },
  {
   "cell_type": "code",
   "execution_count": null,
   "metadata": {},
   "outputs": [],
   "source": [
    "#hide\n",
    "from nbdev.showdoc import *"
   ]
  },
  {
   "cell_type": "code",
   "execution_count": null,
   "metadata": {},
   "outputs": [],
   "source": [
    "#export\n",
    "from globalPrimePay.helper import Keys\n",
    "from nicHelper.wrappers import add_method\n",
    "from numbers import Number\n",
    "import requests"
   ]
  },
  {
   "cell_type": "markdown",
   "metadata": {},
   "source": [
    "## Client"
   ]
  },
  {
   "cell_type": "code",
   "execution_count": null,
   "metadata": {},
   "outputs": [],
   "source": [
    "#export\n",
    "\n",
    "class Client:\n",
    "  '''\n",
    "    main client for interface with global prime pay\n",
    "  '''\n",
    "  def __init__(self, pub, secret, endpoint = 'https://api.globalprimepay.com'):\n",
    "    '''\n",
    "      input:\n",
    "        pub: str:: publiceKey from web\n",
    "        secret: str:: secretKey from web\n",
    "      docs (https://doc.gbprimepay.com)\n",
    "    '''\n",
    "    self.key = Keys(pub,secret)\n",
    "    self.endpoint = endpoint\n",
    "  "
   ]
  },
  {
   "cell_type": "markdown",
   "metadata": {},
   "source": [
    "## Get token"
   ]
  },
  {
   "cell_type": "code",
   "execution_count": null,
   "metadata": {},
   "outputs": [],
   "source": [
    "#export\n",
    "@add_method(Client)\n",
    "def getCardToken(self, cardNumber, expirationMonth, expirationYear, securityCode, name, **kwargs):\n",
    "  \n",
    "  body = {\n",
    "    \"rememberCard\": True,\n",
    "    \"card\": {\n",
    "      \"number\": cardNumber,\n",
    "      \"expirationMonth\": expirationMonth,\n",
    "      \"expirationYear\": expirationYear,\n",
    "      \"securityCode\": securityCode,\n",
    "      \"name\": name\n",
    "    }\n",
    "    ,**kwargs\n",
    "  }\n",
    "\n",
    "  headersCharge = {\n",
    "    'Authorization': self.key.pubPL,\n",
    "    'Content-Type': 'application/json',\n",
    "  }\n",
    "  baseURL = self.endpoint\n",
    "  url = f'{baseURL}/v2/tokens'\n",
    "  r = requests.post(url,headers = headersCharge, json = body)\n",
    "  return r.json()\n"
   ]
  },
  {
   "cell_type": "code",
   "execution_count": null,
   "metadata": {},
   "outputs": [],
   "source": [
    "#hide\n",
    "\n",
    "sampleKeys = {\n",
    "  'pub': \"vRvqeoxI1js5CJmURGkiueKtAeGD5rte\",\n",
    "  'secret':  \"VWkBurzlZi3dJB78N7jLlztntgDpJSQL\"\n",
    "}\n",
    "sampleCard = {\n",
    "      \"cardNumber\": \"4535017710535741\",\n",
    "      \"expirationMonth\": \"05\",\n",
    "      \"expirationYear\": \"28\",\n",
    "      \"securityCode\": \"184\",\n",
    "      \"name\": \"Watcharagon Phokonwong\"\n",
    "    }"
   ]
  },
  {
   "cell_type": "code",
   "execution_count": null,
   "metadata": {},
   "outputs": [
    {
     "name": "stdout",
     "output_type": "stream",
     "text": [
      "{'rememberCard': True, 'resultCode': '00', 'resultMessage': 'Success', 'card': {'name': None, 'number': '453501XXXXXX5741', 'expirationMonth': '05', 'expirationYear': '28', 'securityCode': None, 'token': '9513f0e0-aa69-49bc-98b0-afbd82dab52a', 'cardLocation': 'D', 'cardType': 'VIS'}}\n"
     ]
    }
   ],
   "source": [
    "client = Client(**sampleKeys)\n",
    "r = client.getCardToken(**sampleCard)\n",
    "print(r)\n",
    "token = r['card']['token']"
   ]
  },
  {
   "cell_type": "markdown",
   "metadata": {},
   "source": [
    "## Charge Card"
   ]
  },
  {
   "cell_type": "code",
   "execution_count": null,
   "metadata": {},
   "outputs": [],
   "source": [
    "@add_method(Client)\n",
    "def chargeCard(self, token:str, \n",
    "               amount:Number, \n",
    "               referenceNo:str, \n",
    "               customerName:str, \n",
    "               customerEmail:str, \n",
    "               detail:str,\n",
    "               responseUrl:str = \"https://responseUrl\",\n",
    "               backgroundUrl:str =  \"https://backgroundUrl\",\n",
    "               otp:str = \"Y\",\n",
    "               **kwargs)->dict:\n",
    "  body = {\n",
    "    \"amount\": amount,\n",
    "    \"referenceNo\": referenceNo,\n",
    "    \"detail\": detail,\n",
    "    \"customerName\": customerName,\n",
    "    \"customerEmail\": customerEmail,\n",
    "    \"card\": {\n",
    "      \"token\": token\n",
    "    },\n",
    "    \"otp\": otp,\n",
    "    \"responseUrl\": responseUrl,\n",
    "    \"backgroundUrl\": backgroundUrl,\n",
    "    **kwargs\n",
    "  }\n",
    "  \n",
    "  url = f'{self.endpoint}/v2/tokens/charge'\n",
    "  headers = {\n",
    "    'Authorization': self.key.secPL,\n",
    "    'Content-Type': 'application/json',\n",
    "  }\n",
    "  r = requests.post(url, json=body, headers = headers)\n",
    "  return r.json()\n"
   ]
  },
  {
   "cell_type": "code",
   "execution_count": null,
   "metadata": {},
   "outputs": [
    {
     "name": "stdout",
     "output_type": "stream",
     "text": [
      "{'customerAddress': None, 'amount': 10, 'referenceNo': 'TEST1234975', 'messageToMerchant': None, 'resultCode': '00', 'customerTelephone': None, 'resultMessage': 'Success', 'customerName': 'nic', 'customerEmail': 'email@gmail.com', 'gbpReferenceNo': 'gbp173512057819', 'merchantDefined5': None, 'detail': 'this is just a test', 'merchantDefined3': None, 'merchantDefined4': None, 'merchantDefined1': None, 'merchantDefined2': None}\n"
     ]
    }
   ],
   "source": [
    "client = Client(**sampleKeys)\n",
    "from random import randint\n",
    "\n",
    "cardPayload = {\n",
    "  'token': token,\n",
    "  'amount': 10,\n",
    "  'referenceNo': f\"TEST123{randint(1000,10000)}\",\n",
    "  'customerName': 'nic',\n",
    "  'customerEmail': 'email@gmail.com',\n",
    "  'otp': 'Y',\n",
    "  'detail': 'this is just a test'\n",
    "}\n",
    "r = client.chargeCard(**cardPayload)\n",
    "print(r)\n",
    "gbpReferenceNo = r['gbpReferenceNo']"
   ]
  },
  {
   "cell_type": "markdown",
   "metadata": {},
   "source": [
    "## Verify OTP"
   ]
  },
  {
   "cell_type": "code",
   "execution_count": null,
   "metadata": {},
   "outputs": [],
   "source": [
    "@add_method(Client)\n",
    "def verifyOtp(self, gbpReferenceNo):\n",
    "  params = {\n",
    "      'publicKey': self.key.pub,\n",
    "      'gbpReferenceNo': gbpReferenceNo\n",
    "  }\n",
    "  headers3d = {\n",
    "    'Content-Type': 'application/x-www-form-urlencoded',\n",
    "  }\n",
    "  url = self.endpoint + \"/v2/tokens/3d_secured\"\n",
    "  r = requests.post(url, params=params, headers = headers3d)\n",
    "  return r.text"
   ]
  },
  {
   "cell_type": "code",
   "execution_count": null,
   "metadata": {},
   "outputs": [
    {
     "data": {
      "text/plain": [
       "'<!DOCTYPE html>\\n\\n<html>\\n  <head>\\n    <title>GB Prime Pay</title>\\n    <meta charset=\"UTF-8\" />\\n    <meta name=\"viewport\" content=\"width=device-width, initial-scale=1.0\" />\\n  </head>\\n  <body>\\n    <div>Loading...</div>\\n    <div>\\n      <form action=\"https://simbank.globalprimepay.com/pay/3d_secure\" method=\"post\">\\n        <input type=\"hidden\" name=\"MERID\" value=\"21291800001\" />\\n        <input type=\"hidden\" name=\"TERMINALID\" value=\"18060001\" />\\n        <input type=\"hidden\" name=\"PAN\" value=\"4535017710535741\" />\\n        <input type=\"hidden\" name=\"EXPIRYDATE\" value=\"0528\" />\\n        <input type=\"hidden\" name=\"CVV2\" value=\"184\" />\\n        <input type=\"hidden\" name=\"INVOICENO\" value=\"2205020023\" />\\n        <input type=\"hidden\" name=\"AMOUNT\" value=\"1000\" />\\n        <input type=\"hidden\" name=\"POSTURL\" value=\"https://api.globalprimepay.com/web/thanachat_gateway/receive/goback\" />\\n        <input type=\"hidden\" name=\"POSTURL2\" value=\"https://api.globalprimepay.com/web/thanachat_gateway/receive/realtime\" />\\n        <input type=\"hidden\" name=\"AUTOREDIRECT\" value=\"Y\" />\\n      </form>\\n    </div>\\n    <script type=\"text/javascript\" src=\"https://cdnjs.cloudflare.com/ajax/libs/jquery/3.2.1/jquery.min.js\"></script>\\n    <script type=\"text/javascript\">\\n      $(document).ready(function () {\\n        $(\\'form\\').submit();\\n      });\\n    </script>\\n  </body>\\n</html>'"
      ]
     },
     "execution_count": null,
     "metadata": {},
     "output_type": "execute_result"
    }
   ],
   "source": [
    "r = client.verifyOtp(gbpReferenceNo)\n",
    "r"
   ]
  },
  {
   "cell_type": "code",
   "execution_count": null,
   "metadata": {},
   "outputs": [],
   "source": [
    "# from IPython.display import HTML\n",
    "# HTML(r)"
   ]
  },
  {
   "cell_type": "code",
   "execution_count": null,
   "metadata": {},
   "outputs": [],
   "source": []
  }
 ],
 "metadata": {
  "kernelspec": {
   "display_name": "python38",
   "language": "python",
   "name": "python38"
  }
 },
 "nbformat": 4,
 "nbformat_minor": 4
}
