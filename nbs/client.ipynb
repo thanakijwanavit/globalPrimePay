{
 "cells": [
  {
   "cell_type": "code",
   "execution_count": null,
   "metadata": {},
   "outputs": [],
   "source": [
    "# default_exp client"
   ]
  },
  {
   "cell_type": "markdown",
   "metadata": {},
   "source": [
    "# Client\n",
    "\n",
    "> client for global prime pay\n",
    "\n",
    "\n",
    "this client is able to assist you through the GBP payment flow using just python\n",
    "feel free to comment and contribute\n",
    "\n",
    "more info at 'https://doc.gbprimepay.com'"
   ]
  },
  {
   "cell_type": "code",
   "execution_count": null,
   "metadata": {},
   "outputs": [],
   "source": [
    "#export\n",
    "from nicHelper.wrappers import add_method\n",
    "from numbers import Number\n",
    "from typing import Optional\n",
    "import requests, sentry_sdk, urllib"
   ]
  },
  {
   "cell_type": "code",
   "execution_count": null,
   "metadata": {},
   "outputs": [],
   "source": [
    "#export\n",
    "from globalPrimePay.helper import Keys, checkSum\n",
    "from globalPrimePay.exceptions import GBPResponseError"
   ]
  },
  {
   "cell_type": "markdown",
   "metadata": {},
   "source": [
    "## Helper"
   ]
  },
  {
   "cell_type": "code",
   "execution_count": null,
   "metadata": {},
   "outputs": [],
   "source": [
    "#export\n",
    "class Helper:\n",
    "  @staticmethod\n",
    "  def urlEncode(params):\n",
    "    return urllib.parse.urlencode(params)\n",
    "\n",
    "  successMap = {'G' : 'Generate' , 'A' : 'Authorize' , 'S' : 'Settle', 'V' : 'Void', 'D' : 'Decline'}"
   ]
  },
  {
   "cell_type": "code",
   "execution_count": null,
   "metadata": {},
   "outputs": [
    {
     "data": {
      "text/plain": [
       "'test=test&test1=1'"
      ]
     },
     "execution_count": null,
     "metadata": {},
     "output_type": "execute_result"
    }
   ],
   "source": [
    "Helper.urlEncode({'test':'test','test1':1})"
   ]
  },
  {
   "cell_type": "markdown",
   "metadata": {},
   "source": [
    "## Client"
   ]
  },
  {
   "cell_type": "code",
   "execution_count": null,
   "metadata": {},
   "outputs": [],
   "source": [
    "#export\n",
    "\n",
    "class Client(Helper):\n",
    "  '''\n",
    "    main client for interface with global prime pay\n",
    "    accept 3 inputs from gbp\n",
    "    pub: public key\n",
    "    secret: your secret key\n",
    "    token: your client token\n",
    "    \n",
    "    please refer to the main readme which should describe what those are\n",
    "  '''\n",
    "  def __init__(self, pub, secret, token='', endpoint = 'https://api.globalprimepay.com'):\n",
    "    '''\n",
    "      input:\n",
    "        pub: str:: publiceKey from web\n",
    "        secret: str:: secretKey from web\n",
    "      docs (https://doc.gbprimepay.com)\n",
    "    '''\n",
    "    self.key = Keys(pub,secret)\n",
    "    self.endpoint = endpoint\n",
    "    self.token = token\n",
    "  "
   ]
  },
  {
   "cell_type": "markdown",
   "metadata": {},
   "source": [
    "## Get token"
   ]
  },
  {
   "cell_type": "code",
   "execution_count": null,
   "metadata": {},
   "outputs": [],
   "source": [
    "#export\n",
    "@add_method(Client)\n",
    "def getCardToken(self, cardNumber, expirationMonth, expirationYear, securityCode, name, **kwargs):\n",
    "  \n",
    "  body = {\n",
    "    \"rememberCard\": True,\n",
    "    \"card\": {\n",
    "      \"number\": cardNumber,\n",
    "      \"expirationMonth\": expirationMonth,\n",
    "      \"expirationYear\": expirationYear,\n",
    "      \"securityCode\": securityCode,\n",
    "      \"name\": name\n",
    "    }\n",
    "    ,**kwargs\n",
    "  }\n",
    "\n",
    "  headersCharge = {\n",
    "    'Authorization': self.key.pubPL,\n",
    "    'Content-Type': 'application/json',\n",
    "  }\n",
    "  baseURL = self.endpoint\n",
    "  url = f'{baseURL}/v2/tokens'\n",
    "  r:requests.Response = requests.post(url,headers = headersCharge, json = body)\n",
    "  jsonResponse = r.json()\n",
    "  if r.status_code >= 400: \n",
    "    sentry_sdk.add_breadcrumb(category = 'gbPrimePay', data = {'input':body, 'response':jsonResponse} , level = 'critical')\n",
    "    raise GBPResponseError(f'error response, input payload is {body}, response from gb is {jsonResponse}')\n",
    "  return jsonResponse\n"
   ]
  },
  {
   "cell_type": "code",
   "execution_count": null,
   "metadata": {},
   "outputs": [],
   "source": [
    "#hide\n",
    "\n",
    "sampleKeys = {\n",
    "  'pub': \"vRvqeoxI1js5CJmURGkiueKtAeGD5rte\",\n",
    "  'secret':  \"VWkBurzlZi3dJB78N7jLlztntgDpJSQL\",\n",
    "  'token': 'tok'\n",
    "}\n",
    "sampleCard = {\n",
    "      \"cardNumber\": \"4535017710535741\",\n",
    "      \"expirationMonth\": \"05\",\n",
    "      \"expirationYear\": \"28\",\n",
    "      \"securityCode\": \"184\",\n",
    "      \"name\": \"Watcharagon Phokonwong\"\n",
    "    }"
   ]
  },
  {
   "cell_type": "code",
   "execution_count": null,
   "metadata": {},
   "outputs": [
    {
     "name": "stdout",
     "output_type": "stream",
     "text": [
      "{'rememberCard': True, 'resultCode': '00', 'resultMessage': 'Success', 'card': {'name': None, 'number': '453501XXXXXX5741', 'expirationMonth': '05', 'expirationYear': '28', 'securityCode': None, 'token': 'adaa55d8-6aaa-4895-8212-ca986d2b350d', 'cardLocation': 'I', 'cardType': 'VIS'}, 'email': None, 'mobilePhone': None, 'userId': None, 'partnerKey': None}\n"
     ]
    },
    {
     "data": {
      "text/plain": [
       "{'rememberCard': True,\n",
       " 'resultCode': '00',\n",
       " 'resultMessage': 'Success',\n",
       " 'card': {'name': None,\n",
       "  'number': '453501XXXXXX5741',\n",
       "  'expirationMonth': '05',\n",
       "  'expirationYear': '28',\n",
       "  'securityCode': None,\n",
       "  'token': 'adaa55d8-6aaa-4895-8212-ca986d2b350d',\n",
       "  'cardLocation': 'I',\n",
       "  'cardType': 'VIS'},\n",
       " 'email': None,\n",
       " 'mobilePhone': None,\n",
       " 'userId': None,\n",
       " 'partnerKey': None}"
      ]
     },
     "execution_count": null,
     "metadata": {},
     "output_type": "execute_result"
    }
   ],
   "source": [
    "client = Client(**sampleKeys)\n",
    "r = client.getCardToken(**sampleCard)\n",
    "print(r)\n",
    "token = r['card']['token']\n",
    "r"
   ]
  },
  {
   "cell_type": "markdown",
   "metadata": {},
   "source": [
    "## Charge Card"
   ]
  },
  {
   "cell_type": "code",
   "execution_count": null,
   "metadata": {},
   "outputs": [],
   "source": [
    "#export\n",
    "@add_method(Client)\n",
    "def chargeCard(self, token:str, \n",
    "               amount:Number, \n",
    "               referenceNo:str, \n",
    "               customerName:str, \n",
    "               customerEmail:str, \n",
    "               detail:str,\n",
    "               responseUrl:str = \"https://responseUrl\",\n",
    "               backgroundUrl:str =  \"https://backgroundUrl\",\n",
    "               otp:str = \"Y\",\n",
    "               **kwargs)->dict:\n",
    "  '''\n",
    "    charge card using 3d security,\n",
    "    input:\n",
    "      token:str:: card token (generated using client.getCardToken\n",
    "      amount:Number:: amount to charge\n",
    "      referenceNo:str:: reference used to check payment status later, should be uniquely generated\n",
    "      customerName:str\n",
    "      customerEmail:str\n",
    "      detail:str\n",
    "      responseUrl:str:: redirect url\n",
    "      backgroundUrl:str:: callback url\n",
    "      otp:str:: should we force user to input OTP 'Y' or 'N'\n",
    "      **kwargs: any other input, please see full reference here https://doc.gbprimepay.com/full-payment-3d\n",
    "  '''\n",
    "  body = {\n",
    "    \"amount\": amount,\n",
    "    \"referenceNo\": referenceNo,\n",
    "    \"detail\": detail,\n",
    "    \"customerName\": customerName,\n",
    "    \"customerEmail\": customerEmail,\n",
    "    \"card\": {\n",
    "      \"token\": token\n",
    "    },\n",
    "    \"otp\": otp,\n",
    "    \"responseUrl\": responseUrl,\n",
    "    \"backgroundUrl\": backgroundUrl,\n",
    "    **kwargs\n",
    "  }\n",
    "  \n",
    "  url = f'{self.endpoint}/v2/tokens/charge'\n",
    "  headers = {\n",
    "    'Authorization': self.key.secPL,\n",
    "    'Content-Type': 'application/json',\n",
    "  }\n",
    "  r = requests.post(url, json=body, headers = headers)\n",
    "  jsonResponse = r.json()\n",
    "  # handle error\n",
    "  if r.status_code >= 400: \n",
    "    sentry_sdk.add_breadcrumb(category = 'gbPrimePay', data = {'input':body, 'response':jsonResponse} , level = 'critical')\n",
    "    raise GBPResponseError(f'error response, input payload is {body}, response from gb is {jsonResponse}')\n",
    "  return jsonResponse\n",
    "    \n"
   ]
  },
  {
   "cell_type": "code",
   "execution_count": null,
   "metadata": {},
   "outputs": [
    {
     "name": "stdout",
     "output_type": "stream",
     "text": [
      "{'customerAddress': None, 'amount': 10, 'referenceNo': 'TEST1231685', 'messageToMerchant': None, 'resultCode': '00', 'customerTelephone': None, 'resultMessage': 'Success', 'customerName': 'nic', 'customerEmail': 'email@gmail.com', 'gbpReferenceNo': 'gbp173512137809', 'merchantDefined5': None, 'detail': 'this is just a test', 'merchantDefined3': None, 'merchantDefined4': None, 'merchantDefined1': None, 'merchantDefined2': None}\n"
     ]
    }
   ],
   "source": [
    "client = Client(**sampleKeys)\n",
    "from random import randint\n",
    "\n",
    "cardPayload = {\n",
    "  'token': token,\n",
    "  'amount': 10,\n",
    "  'referenceNo': f\"TEST123{randint(1000,10000)}\",\n",
    "  'customerName': 'nic',\n",
    "  'customerEmail': 'email@gmail.com',\n",
    "  'otp': 'Y',\n",
    "  'detail': 'this is just a test'\n",
    "}\n",
    "r = client.chargeCard(**cardPayload)\n",
    "print(r)\n",
    "gbpReferenceNo = r['gbpReferenceNo']"
   ]
  },
  {
   "cell_type": "markdown",
   "metadata": {},
   "source": [
    "## Verify OTP"
   ]
  },
  {
   "cell_type": "code",
   "execution_count": null,
   "metadata": {},
   "outputs": [],
   "source": [
    "#export\n",
    "@add_method(Client)\n",
    "def verifyOtp(self, gbpReferenceNo):\n",
    "  params = {\n",
    "      'publicKey': self.key.pub,\n",
    "      'gbpReferenceNo': gbpReferenceNo\n",
    "  }\n",
    "  headers3d = {\n",
    "    'Content-Type': 'application/x-www-form-urlencoded',\n",
    "  }\n",
    "  url = self.endpoint + \"/v2/tokens/3d_secured\"\n",
    "  r = requests.post(url, params=params, headers = headers3d)\n",
    "  if r.status_code >= 400: \n",
    "    sentry_sdk.add_breadcrumb(category = 'gbPrimePay', data = {'input':params, 'response':r.text} , level = 'critical')\n",
    "    raise GBPResponseError(f'error response, input payload is {params}, response from gb is {r.text}')\n",
    "  return r.text"
   ]
  },
  {
   "cell_type": "code",
   "execution_count": null,
   "metadata": {},
   "outputs": [
    {
     "data": {
      "text/plain": [
       "'<!DOCTYPE html>\\n\\n<html>\\n  <head>\\n    <title>GB Prime Pay</title>\\n    <meta charset=\"UTF-8\" />\\n    <meta name=\"viewport\" content=\"width=device-width, initial-scale=1.0\" />\\n  </head>\\n  <body>\\n    <div>Loading...</div>\\n    <div>\\n      <form action=\"https://simbank.globalprimepay.com/pay/3d_secure\" method=\"post\">\\n        <input type=\"hidden\" name=\"MERID\" value=\"21291800058\" />\\n        <input type=\"hidden\" name=\"TERMINALID\" value=\"18060001\" />\\n        <input type=\"hidden\" name=\"PAN\" value=\"4535017710535741\" />\\n        <input type=\"hidden\" name=\"EXPIRYDATE\" value=\"0528\" />\\n        <input type=\"hidden\" name=\"CVV2\" value=\"184\" />\\n        <input type=\"hidden\" name=\"INVOICENO\" value=\"2211210051\" />\\n        <input type=\"hidden\" name=\"AMOUNT\" value=\"1000\" />\\n        <input type=\"hidden\" name=\"POSTURL\" value=\"https://api.globalprimepay.com/web/thanachat_gateway/receive/goback\" />\\n        <input type=\"hidden\" name=\"POSTURL2\" value=\"https://api.globalprimepay.com/web/thanachat_gateway/receive/realtime\" />\\n        <input type=\"hidden\" name=\"AUTOREDIRECT\" value=\"Y\" />\\n      </form>\\n    </div>\\n    <script type=\"text/javascript\" src=\"https://cdnjs.cloudflare.com/ajax/libs/jquery/3.2.1/jquery.min.js\"></script>\\n    <script type=\"text/javascript\">\\n      $(document).ready(function () {\\n        $(\\'form\\').submit();\\n      });\\n    </script>\\n  </body>\\n</html>'"
      ]
     },
     "execution_count": null,
     "metadata": {},
     "output_type": "execute_result"
    }
   ],
   "source": [
    "r = client.verifyOtp(gbpReferenceNo)\n",
    "r"
   ]
  },
  {
   "cell_type": "code",
   "execution_count": null,
   "metadata": {},
   "outputs": [
    {
     "data": {
      "text/plain": [
       "{'rememberCard': False,\n",
       " 'card': {'number': '4535017710535741',\n",
       "  'expirationYear': '28',\n",
       "  'expirationMonth': '05',\n",
       "  'securityCode': '184',\n",
       "  'name': 'Watcharagon Phokonwong'}}"
      ]
     },
     "execution_count": null,
     "metadata": {},
     "output_type": "execute_result"
    }
   ],
   "source": [
    "import json\n",
    "data = \"{\\\"rememberCard\\\":false,\\\"card\\\":{\\\"number\\\":\\\"4535017710535741\\\",\\\"expirationYear\\\":\\\"28\\\",\\\"expirationMonth\\\":\\\"05\\\",\\\"securityCode\\\":\\\"184\\\",\\\"name\\\":\\\"Watcharagon Phokonwong\\\"}}\"\n",
    "json.loads(data)"
   ]
  },
  {
   "cell_type": "code",
   "execution_count": null,
   "metadata": {},
   "outputs": [
    {
     "data": {
      "text/plain": [
       "{'customerAddress': None,\n",
       " 'amount': 10,\n",
       " 'referenceNo': 'TEST1235543',\n",
       " 'messageToMerchant': None,\n",
       " 'resultCode': '00',\n",
       " 'customerTelephone': None,\n",
       " 'resultMessage': 'Success',\n",
       " 'customerName': 'nic',\n",
       " 'customerEmail': 'email@gmail.com',\n",
       " 'gbpReferenceNo': 'gbp173512058890',\n",
       " 'merchantDefined5': None,\n",
       " 'detail': 'this is just a test',\n",
       " 'merchantDefined3': None,\n",
       " 'merchantDefined4': None,\n",
       " 'merchantDefined1': None,\n",
       " 'merchantDefined2': None}"
      ]
     },
     "execution_count": null,
     "metadata": {},
     "output_type": "execute_result"
    }
   ],
   "source": [
    "{'customerAddress': None, 'amount': 10, 'referenceNo': 'TEST1235543', 'messageToMerchant': None, 'resultCode': '00', 'customerTelephone': None, 'resultMessage': 'Success', 'customerName': 'nic', 'customerEmail': 'email@gmail.com', 'gbpReferenceNo': 'gbp173512058890', 'merchantDefined5': None, 'detail': 'this is just a test', 'merchantDefined3': None, 'merchantDefined4': None, 'merchantDefined1': None, 'merchantDefined2': None}"
   ]
  },
  {
   "cell_type": "markdown",
   "metadata": {},
   "source": [
    "## QR Payment"
   ]
  },
  {
   "cell_type": "code",
   "execution_count": null,
   "metadata": {},
   "outputs": [],
   "source": [
    "#export\n",
    "@add_method(Client)\n",
    "def qrPayment(self, amount:Number, referenceNo:str, *args, **kwargs):\n",
    "  '''\n",
    "    pass through variable except token is get from the main class, please see docs at \n",
    "    https://doc.gbprimepay.com/qrcash\n",
    "    currently only amount and referenceNo are required\n",
    "  '''\n",
    "  url = f'{self.endpoint}/v3/qrcode/text'\n",
    "  headers = {\n",
    "    'Content-Type': 'application/x-www-form-urlencoded',\n",
    "  }\n",
    "  body = {\n",
    "    'token': self.token,\n",
    "    'amount': amount,\n",
    "    'referenceNo': referenceNo,\n",
    "    **kwargs\n",
    "  }\n",
    "  r = requests.post(url, data = self.urlEncode(body), headers = headers)\n",
    "  return r.json()\n",
    "  "
   ]
  },
  {
   "cell_type": "code",
   "execution_count": null,
   "metadata": {},
   "outputs": [],
   "source": [
    "#hide\n",
    "from nicHelper.secrets import getSecret\n",
    "from random import randint\n",
    "sec = getSecret('globalprime-prod')\n",
    "# print(sec)\n"
   ]
  },
  {
   "cell_type": "code",
   "execution_count": null,
   "metadata": {},
   "outputs": [
    {
     "data": {
      "text/plain": [
       "{'referenceNo': 'test522',\n",
       " 'qrcode': '00020101021230830016A00000067701011201150105560068127480218000000221121039125031800000000000test5225303764540515.005802TH5910GBPrimePay6304D681',\n",
       " 'resultCode': '00',\n",
       " 'gbpReferenceNo': 'gbp8778184907375',\n",
       " 'resultMessage': 'Success'}"
      ]
     },
     "execution_count": null,
     "metadata": {},
     "output_type": "execute_result"
    }
   ],
   "source": [
    "client = Client( pub=sec['public'], secret = sec['secret'], token = sec['token'],endpoint = 'https://api.gbprimepay.com/', )\n",
    "customerKey = sec['token']\n",
    "ref = f'test{randint(100,999)}'\n",
    "\n",
    "r = client.qrPayment(token = customerKey, amount = 15.00, referenceNo=ref,responseUrl = \"https://responseUrl\",\n",
    "               backgroundUrl =  \"https://backgroundUrl\")\n",
    "r"
   ]
  },
  {
   "cell_type": "markdown",
   "metadata": {},
   "source": [
    "## Check status"
   ]
  },
  {
   "cell_type": "code",
   "execution_count": null,
   "metadata": {},
   "outputs": [],
   "source": [
    "#export\n",
    "@add_method(Client)\n",
    "def checkStatus(self, referenceNo, **kwargs):\n",
    "  url = f'{self.endpoint}/v1/check_status_txn'\n",
    "  headers = {\n",
    "    'content-type': 'application/json',\n",
    "    'Authorization': self.key.secPL\n",
    "  }\n",
    "  body = {'referenceNo': referenceNo }\n",
    "  r:requests.Response = requests.post(url, headers=headers, json = body)\n",
    "  if r.status_code >=400: raise Exception(f'error checking status {r.text}')\n",
    "  return r.json()"
   ]
  },
  {
   "cell_type": "code",
   "execution_count": null,
   "metadata": {},
   "outputs": [],
   "source": [
    "#export\n",
    "@add_method(Client)\n",
    "def paymentStatus(self, referenceNo, **kwargs):\n",
    "  status =  self.checkStatus(referenceNo)['txn']['status']\n",
    "  print('status is', self.successMap[status])\n",
    "  return status"
   ]
  },
  {
   "cell_type": "code",
   "execution_count": null,
   "metadata": {},
   "outputs": [
    {
     "data": {
      "text/plain": [
       "{'resultCode': '00',\n",
       " 'txn': {'amount': '15.00',\n",
       "  'referenceNo': 'test522',\n",
       "  'gbpReferenceNo': 'gbp8778184907375',\n",
       "  'merchantDefined5': None,\n",
       "  'merchantDefined3': None,\n",
       "  'merchantDefined4': None,\n",
       "  'merchantDefined1': None,\n",
       "  'status': 'G',\n",
       "  'paymentType': 'Q',\n",
       "  'merchantDefined2': None},\n",
       " 'resultMessage': 'Success'}"
      ]
     },
     "execution_count": null,
     "metadata": {},
     "output_type": "execute_result"
    }
   ],
   "source": [
    "client.checkStatus(ref)"
   ]
  },
  {
   "cell_type": "code",
   "execution_count": null,
   "metadata": {},
   "outputs": [
    {
     "name": "stdout",
     "output_type": "stream",
     "text": [
      "status is Generate\n"
     ]
    },
    {
     "data": {
      "text/plain": [
       "'G'"
      ]
     },
     "execution_count": null,
     "metadata": {},
     "output_type": "execute_result"
    }
   ],
   "source": [
    "client.paymentStatus(ref)"
   ]
  },
  {
   "cell_type": "markdown",
   "metadata": {},
   "source": [
    "# wechat payment"
   ]
  },
  {
   "cell_type": "code",
   "execution_count": null,
   "metadata": {},
   "outputs": [],
   "source": [
    "#export\n",
    "@add_method(Client)\n",
    "def wechatPay(self, amount:Number, referenceNo:str, *args, **kwargs):\n",
    "  '''\n",
    "    pass through variable except token is get from the main class, please see docs at \n",
    "    https://doc.gbprimepay.com/wechat\n",
    "    currently only amount and referenceNo are required\n",
    "  '''\n",
    "  url = f'{self.endpoint}v3/wechat/text'\n",
    "  headers = {\n",
    "    'Content-Type': 'application/x-www-form-urlencoded',\n",
    "  }\n",
    "  body = {\n",
    "    'token': self.token,\n",
    "    'amount': amount,\n",
    "    'referenceNo': referenceNo,\n",
    "    **kwargs\n",
    "  }\n",
    "  r = requests.post(url, data = self.urlEncode(body), headers = headers)\n",
    "  return r.json()\n",
    "  "
   ]
  },
  {
   "cell_type": "code",
   "execution_count": null,
   "metadata": {},
   "outputs": [],
   "source": [
    "#hide\n",
    "from nicHelper.secrets import getSecret\n",
    "from random import randint\n",
    "sec = getSecret('globalprime-prod')\n",
    "# print(sec)"
   ]
  },
  {
   "cell_type": "code",
   "execution_count": null,
   "metadata": {},
   "outputs": [
    {
     "data": {
      "text/plain": [
       "{'referenceNo': 'test134',\n",
       " 'resultCode': '00',\n",
       " 'gbpReferenceNo': 'gbp8778184907379',\n",
       " 'wechat': 'weixin://wxpay/bizpayurl?pr=eqr4cvAzz',\n",
       " 'resultMessage': 'Success'}"
      ]
     },
     "execution_count": null,
     "metadata": {},
     "output_type": "execute_result"
    }
   ],
   "source": [
    "client = Client( pub=sec['public'], secret = sec['secret'], token = sec['token'],endpoint = 'https://api.gbprimepay.com/' )\n",
    "customerKey = sec['token']\n",
    "ref = f'test{randint(100,999)}'\n",
    "\n",
    "r = client.wechatPay(\n",
    "    token = customerKey, \n",
    "    amount = 15.00, \n",
    "    referenceNo=ref,\n",
    "    responseUrl = \"https://responseUrl\",\n",
    "    backgroundUrl =  \"https://backgroundUrl\"\n",
    "    )\n",
    "r"
   ]
  },
  {
   "cell_type": "markdown",
   "metadata": {},
   "source": [
    "## Alipay"
   ]
  },
  {
   "cell_type": "code",
   "execution_count": null,
   "metadata": {},
   "outputs": [],
   "source": [
    "#export\n",
    "@add_method(Client)\n",
    "def alipay(self, amount:Number, referenceNo:str, *args, **kwargs):\n",
    "  '''\n",
    "    pass through variable except token is get from the main class, please see docs at \n",
    "    https://doc.gbprimepay.com/wechat\n",
    "    currently only amount and referenceNo are required\n",
    "  '''\n",
    "  url = f'{self.endpoint}v2/alipay'\n",
    "  headers = {\n",
    "    'Content-Type': 'application/x-www-form-urlencoded',\n",
    "  }\n",
    "  body = {\n",
    "    'token': self.token,\n",
    "    'amount': amount,\n",
    "    'referenceNo': referenceNo,\n",
    "    **kwargs\n",
    "  }\n",
    "  r = requests.post(url, data = self.urlEncode(body), headers = headers)\n",
    "  return r.text\n",
    "  "
   ]
  },
  {
   "cell_type": "code",
   "execution_count": null,
   "metadata": {},
   "outputs": [
    {
     "data": {
      "text/plain": [
       "'<!DOCTYPE html>\\n\\n<html>\\n<head>\\n    <title>GB Prime Pay</title>\\n    <meta charset=\"UTF-8\" />\\n    <meta name=\"viewport\" content=\"width=device-width, initial-scale=1.0\" />\\n</head>\\n<body>\\n<div>Loading...</div>\\n<div>\\n    <form action=\"https://paygate.ktc.co.th/ktc/eng/merchandize/payment/payForm.jsp\" method=\"post\">\\n        <input type=\"hidden\" name=\"merchantId\" value=\"991304584\" />\\n        <input type=\"hidden\" name=\"amount\" value=\"15.00\" />\\n        <input type=\"hidden\" name=\"orderRef\" value=\"221121017184\" />\\n        <input type=\"hidden\" name=\"currCode\" value=\"764\" />\\n        <input type=\"hidden\" name=\"successUrl\" value=\"https://api.gbprimepay.com/alipay/ktc_gateway/success\" />\\n        <input type=\"hidden\" name=\"failUrl\" value=\"https://api.gbprimepay.com/alipay/ktc_gateway/fail\" />\\n        <input type=\"hidden\" name=\"cancelUrl\" value=\"https://api.gbprimepay.com/alipay/ktc_gateway/cancel\" />\\n        <input type=\"hidden\" name=\"payType\" value=\"N\" />\\n        <input type=\"hidden\" name=\"lang\" value=\"E\" />\\n        <input type=\"hidden\" name=\"pMethod\" value=\"ALIPAY\" />\\n        <input type=\"hidden\" name=\"TxType\" value=\"Retail\" />\\n\\n    </form>\\n</div>\\n<script type=\"text/javascript\" src=\"https://cdnjs.cloudflare.com/ajax/libs/jquery/3.2.1/jquery.min.js\"></script>\\n<script type=\"text/javascript\">\\n      $(document).ready(function () {\\n        $(\\'form\\').submit();\\n      });\\n    </script>\\n</body>\\n</html>'"
      ]
     },
     "execution_count": null,
     "metadata": {},
     "output_type": "execute_result"
    }
   ],
   "source": [
    "client = Client( pub=sec['public'], secret = sec['secret'], token = sec['token'],endpoint = 'https://api.gbprimepay.com/', )\n",
    "customerKey = sec['token']\n",
    "ref = f'test{randint(100,999)}'\n",
    "\n",
    "r = client.alipay(\n",
    "    token = customerKey, \n",
    "    amount = '15.00', \n",
    "    referenceNo=ref,\n",
    "    responseUrl = \"https://responseUrl\",\n",
    "    backgroundUrl =  \"https://backgroundUrl\",\n",
    "    detail='test'\n",
    "    )\n",
    "r"
   ]
  },
  {
   "cell_type": "code",
   "execution_count": null,
   "metadata": {},
   "outputs": [],
   "source": []
  }
 ],
 "metadata": {
  "kernelspec": {
   "display_name": "Python 3.8.13 ('python38')",
   "language": "python",
   "name": "python3"
  }
 },
 "nbformat": 4,
 "nbformat_minor": 4
}
