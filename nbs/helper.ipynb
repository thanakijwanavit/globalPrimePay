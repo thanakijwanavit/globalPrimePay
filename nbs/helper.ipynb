{
 "cells": [
  {
   "cell_type": "code",
   "execution_count": null,
   "metadata": {},
   "outputs": [],
   "source": [
    "# default_exp helper"
   ]
  },
  {
   "cell_type": "code",
   "execution_count": null,
   "metadata": {},
   "outputs": [],
   "source": [
    "#export \n",
    "import base64"
   ]
  },
  {
   "cell_type": "markdown",
   "metadata": {},
   "source": [
    "# Helper\n",
    "\n",
    "> helper functions"
   ]
  },
  {
   "cell_type": "code",
   "execution_count": null,
   "metadata": {},
   "outputs": [],
   "source": [
    "#hide\n",
    "from nbdev.showdoc import *"
   ]
  },
  {
   "cell_type": "code",
   "execution_count": null,
   "metadata": {},
   "outputs": [],
   "source": [
    "#export\n",
    "\n",
    "class Keys:\n",
    "  \n",
    "  def __init__(self, pub, secret, **kwargs):\n",
    "    '''\n",
    "    a key payload generator for global prime pay\n",
    "    inputs:\n",
    "      pub: str:: gpp public key from console\n",
    "      secret: str:: gpp secret key from console\n",
    "    '''\n",
    "    self.pub = pub\n",
    "    self.sec = secret\n",
    "  @property\n",
    "  def secPL(self):\n",
    "    return self.keyPayload(self.sec + \":\")\n",
    "  @property\n",
    "  def pubPL(self):\n",
    "    return self.keyPayload(self.pub + \":\")\n",
    "  \n",
    "    \n",
    "  @staticmethod\n",
    "  def keyPayload(key:str):\n",
    "      return f'Basic {base64.b64encode(key.encode()).decode()}'"
   ]
  },
  {
   "cell_type": "code",
   "execution_count": null,
   "metadata": {},
   "outputs": [],
   "source": [
    "#hide\n",
    "sampleKeys = {\n",
    "  'pub': \"vRvqeoxI1js5CJmURGkiueKtAeGD5rte\",\n",
    "  'secret':  \"VWkBurzlZi3dJB78N7jLlztntgDpJSQL\"\n",
    "}"
   ]
  },
  {
   "cell_type": "code",
   "execution_count": null,
   "metadata": {},
   "outputs": [
    {
     "data": {
      "text/plain": [
       "'Basic VldrQnVyemxaaTNkSkI3OE43akxsenRudGdEcEpTUUw6'"
      ]
     },
     "execution_count": null,
     "metadata": {},
     "output_type": "execute_result"
    }
   ],
   "source": [
    "key = Keys(**sampleKeys)\n",
    "key.secPL"
   ]
  },
  {
   "cell_type": "markdown",
   "metadata": {},
   "source": [
    "# checksum"
   ]
  },
  {
   "cell_type": "code",
   "execution_count": null,
   "metadata": {},
   "outputs": [],
   "source": [
    "#export\n",
    "import hashlib, hmac\n",
    "def checkSum(message:bin,key:bin)->str:\n",
    "    h = hmac.new(key,message, hashlib.sha256)\n",
    "    return h.hexdigest()"
   ]
  },
  {
   "cell_type": "code",
   "execution_count": null,
   "metadata": {},
   "outputs": [
    {
     "data": {
      "text/plain": [
       "'3cafe40f92be6ac77d2792b4b267c2da11e3f3087b93bb19c6c5133786984b44'"
      ]
     },
     "execution_count": null,
     "metadata": {},
     "output_type": "execute_result"
    }
   ],
   "source": [
    "checkSum('123'.encode(),'123'.encode())"
   ]
  },
  {
   "cell_type": "code",
   "execution_count": null,
   "metadata": {},
   "outputs": [],
   "source": []
  }
 ],
 "metadata": {
  "kernelspec": {
   "display_name": "Python 3.8.13 ('python38')",
   "language": "python",
   "name": "python3"
  }
 },
 "nbformat": 4,
 "nbformat_minor": 4
}
